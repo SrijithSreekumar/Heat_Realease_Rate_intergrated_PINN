{
 "cells": [
  {
   "cell_type": "code",
   "execution_count": 1,
   "id": "be259f86",
   "metadata": {},
   "outputs": [],
   "source": [
    "import sys\n",
    "import math\n",
    "import numpy as np\n",
    "import matplotlib.pyplot as plt\n",
    "import h5py\n",
    "import time as t\n",
    "\n",
    "from sklearn.utils import shuffle\n",
    "from sklearn.preprocessing import MinMaxScaler\n",
    "from sklearn.preprocessing import minmax_scale\n",
    "\n",
    "import tensorflow as tf\n",
    "np.set_printoptions(precision=8)\n",
    "\n",
    "seed = 0"
   ]
  },
  {
   "cell_type": "code",
   "execution_count": 3,
   "id": "d104332f",
   "metadata": {},
   "outputs": [],
   "source": [
    "# Read the file\n",
    "file = 'D:/Education/HRR/molar_fraction_major_chemical_marker.hdf5'\n",
    "f = h5py.File(file, 'r')"
   ]
  },
  {
   "cell_type": "code",
   "execution_count": 4,
   "id": "7d8c53c7",
   "metadata": {},
   "outputs": [
    {
     "name": "stdout",
     "output_type": "stream",
     "text": [
      "(50901851, 6)\n"
     ]
    }
   ],
   "source": [
    "# Get the feature and the label\n",
    "# The dataset have larger points HHR region [data= Augumentation]\n",
    "dataset = np.array(f.get('molar_fraction'))\n",
    "print(dataset.shape)"
   ]
  },
  {
   "cell_type": "code",
   "execution_count": 5,
   "id": "3663c6a7",
   "metadata": {},
   "outputs": [
    {
     "name": "stdout",
     "output_type": "stream",
     "text": [
      "(50901851, 5) (50901851, 1)\n"
     ]
    }
   ],
   "source": [
    "# Separate the feature and the label\n",
    "X_old = dataset[:,:-1]\n",
    "Y = dataset[:,[-1]]\n",
    "print(X_old.shape,Y.shape)"
   ]
  },
  {
   "cell_type": "code",
   "execution_count": 14,
   "id": "9ded5c18",
   "metadata": {},
   "outputs": [
    {
     "name": "stdout",
     "output_type": "stream",
     "text": [
      "[[3.24108411e-07 7.15551340e-06 1.50022992e-04 1.88831462e+03]\n",
      " [3.24264966e-07 7.15909405e-06 1.50018731e-04 1.88830965e+03]\n",
      " [3.24387130e-07 7.16189148e-06 1.50015388e-04 1.88830574e+03]\n",
      " ...\n",
      " [1.03291829e-05 3.26863957e-05 8.84004547e-04 2.29063320e+03]\n",
      " [1.01743229e-05 3.21374957e-05 8.88756537e-04 2.29142432e+03]\n",
      " [9.85278722e-06 3.10329526e-05 8.92953618e-04 2.29242941e+03]]\n"
     ]
    }
   ],
   "source": [
    "# the product of mass fraction and density to find mole fraction.\n",
    "# get the mass fraction \n",
    "y_nh = X_old[:,0:1]\n",
    "y_nh2 = X_old[:,1:2]\n",
    "y_oh = X_old[:,2:3]\n",
    "# Get the tmperature{The additional input}\n",
    "temp = X_old[:,4:5]\n",
    "# get the density\n",
    "density = X_old[:,3:4]\n",
    "\n",
    "# A linear relation between mass fractio and mole fraction \n",
    "X_nh = y_nh *density\n",
    "X_nh2 = y_nh2 *density\n",
    "X_oh = y_oh *density\n",
    "\n",
    "# The new input \n",
    "X = np.c_[X_nh,X_nh2,X_oh,temp]\n",
    "print(X)"
   ]
  },
  {
   "cell_type": "code",
   "execution_count": 5,
   "id": "ce7c88f0",
   "metadata": {},
   "outputs": [],
   "source": [
    "# Now normalize the train and test data\t\t\n",
    "scale_X = MinMaxScaler()\n",
    "scale_Y = MinMaxScaler()"
   ]
  },
  {
   "cell_type": "code",
   "execution_count": 6,
   "id": "2a5598b2",
   "metadata": {},
   "outputs": [],
   "source": [
    "# Normalize the trainig data\n",
    "X_n = scale_X.fit_transform(X)\n",
    "Y_n = scale_Y.fit_transform(Y)"
   ]
  },
  {
   "cell_type": "code",
   "execution_count": 7,
   "id": "6dd2e03f",
   "metadata": {},
   "outputs": [],
   "source": [
    "#load the model\n",
    "mod = 'D:/Education/HRR/Ann reslt/updated_model/updated_model.h5'\n",
    "model = tf.keras.models.load_model(mod)"
   ]
  },
  {
   "cell_type": "code",
   "execution_count": 8,
   "id": "961c9516",
   "metadata": {},
   "outputs": [
    {
     "name": "stdout",
     "output_type": "stream",
     "text": [
      "Model: \"Heat_release_rate\"\n",
      "_________________________________________________________________\n",
      "Layer (type)                 Output Shape              Param #   \n",
      "=================================================================\n",
      "h_layer1 (Dense)             (None, 40)                200       \n",
      "_________________________________________________________________\n",
      "h_layer2 (Dense)             (None, 24)                984       \n",
      "_________________________________________________________________\n",
      "h_layer3 (Dense)             (None, 24)                600       \n",
      "_________________________________________________________________\n",
      "output_layers (Dense)        (None, 1)                 25        \n",
      "=================================================================\n",
      "Total params: 1,809\n",
      "Trainable params: 1,809\n",
      "Non-trainable params: 0\n",
      "_________________________________________________________________\n"
     ]
    }
   ],
   "source": [
    "# Get summary\n",
    "model.summary()"
   ]
  },
  {
   "cell_type": "code",
   "execution_count": 9,
   "id": "783695ee",
   "metadata": {},
   "outputs": [],
   "source": [
    "# Get the data from a randomly selected file.\n",
    "doc = 'D:/Education/HRR/dino_res_21200.h5'\n",
    "f1 = h5py.File(doc, 'r')"
   ]
  },
  {
   "cell_type": "code",
   "execution_count": 10,
   "id": "f801ee63",
   "metadata": {},
   "outputs": [],
   "source": [
    "# Extract the info of chemical marker and the heat release rate\n",
    "y_nh = np.array(f1['Y_NH'])\n",
    "y_nh2 = np.array(f1['Y_NH2'])\n",
    "y_oh = np.array(f1['Y_OH'])\n",
    "temp = np.array(f1['temper'])\n",
    "#  The output label\n",
    "heat = np.array(f1['hr'])\n",
    "\n",
    "# make the tensor\n",
    "tensor = np.array([[y_nh],[y_nh2],[y_oh],[temp],[heat]])\n",
    "tensor = tf.transpose(tensor, perm=[2, 3, 0, 1])\n",
    "tensor = tf.reshape(tensor, shape=[-1, 5])\n",
    "\n",
    "X_reconstruct = tensor[:, :-1]\n",
    "X_reconstruct = np.array(X_reconstruct)\n",
    "Y_ori = tensor[:, -1]\n",
    "Y_ori = tf.reshape(Y_ori , shape=[len(Y_ori), 1])\n",
    "Y_ori =np.array(Y_ori)"
   ]
  },
  {
   "cell_type": "code",
   "execution_count": 11,
   "id": "6446248d",
   "metadata": {},
   "outputs": [],
   "source": [
    "# Get the index positions where the NHRR is less than 0.1\n",
    "NHRR = 0.1\n",
    "norm_hrr = minmax_scale(Y_ori, axis=0)\n",
    "mask_1 = tf.where(norm_hrr < NHRR)\n",
    "redundant_index = mask_1[:, 0]"
   ]
  },
  {
   "cell_type": "code",
   "execution_count": 12,
   "id": "3d601cd9",
   "metadata": {},
   "outputs": [],
   "source": [
    "# Now fit the extracted data to the scale \n",
    "X_test_n = scale_X.transform(X_reconstruct)\n",
    "Y_test_n = scale_Y.transform(Y_ori)\n",
    "#print(X_test_n, Y_test_n)"
   ]
  },
  {
   "cell_type": "code",
   "execution_count": null,
   "id": "83370daa",
   "metadata": {},
   "outputs": [],
   "source": [
    "# Predict the result \n",
    "pred = model.predict(X_test_n)\n",
    "print(pred)"
   ]
  },
  {
   "cell_type": "code",
   "execution_count": null,
   "id": "bf67068a",
   "metadata": {},
   "outputs": [],
   "source": [
    "# Inverse the predicted output\n",
    "pred = scale_Y.inverse_transform(pred)"
   ]
  },
  {
   "cell_type": "code",
   "execution_count": null,
   "id": "bce35884",
   "metadata": {},
   "outputs": [],
   "source": [
    "# Now map those places where the NHRR <0.1 to 0.[Both in pred and the Y_ori]\n",
    "Y_ori[redundant_index] = 0\n",
    "pred[redundant_index] = 0 "
   ]
  },
  {
   "cell_type": "code",
   "execution_count": null,
   "id": "0c7a1fb7",
   "metadata": {},
   "outputs": [],
   "source": [
    "# Plot the fitting of the prediction\n",
    "plt.scatter(pred, Y_ori, s=1,color='green')\n",
    "plt.xlabel('y_pred')\n",
    "plt.ylabel('Y_ori')\n",
    "# predicted values\n",
    "plt.plot(Y_ori, Y_ori, color='k')"
   ]
  },
  {
   "cell_type": "code",
   "execution_count": null,
   "id": "85a0dc71",
   "metadata": {},
   "outputs": [],
   "source": [
    "#Calculation of the absolute error \n",
    "absolute_error = np.abs(pred-Y_ori) "
   ]
  },
  {
   "cell_type": "code",
   "execution_count": null,
   "id": "c7ce1fe0",
   "metadata": {},
   "outputs": [],
   "source": [
    "# Reshape the predition,Y_ori and Abs_error.\n",
    "prediction = tf.reshape(pred, shape=[2049, 1024])\n",
    "Y_ori = tf.reshape(Y_ori, shape=[2049, 1024])\n",
    "abs_error = tf.reshape(absolute_error, shape=[2049, 1024])"
   ]
  },
  {
   "cell_type": "code",
   "execution_count": null,
   "id": "7471f81c",
   "metadata": {},
   "outputs": [],
   "source": [
    "# save the reconstructed image\n",
    "c = h5py.File('Recon_Analysis_21200.h5','w')\n",
    "c.create_dataset('prediction',data=prediction)\n",
    "c.create_dataset('HRR_original',data=Y_ori)\n",
    "c.create_dataset('absolute_error',data=abs_error)\n",
    "c.close()"
   ]
  },
  {
   "cell_type": "code",
   "execution_count": null,
   "id": "1f6507a3",
   "metadata": {},
   "outputs": [],
   "source": []
  }
 ],
 "metadata": {
  "kernelspec": {
   "display_name": "Python 3 (ipykernel)",
   "language": "python",
   "name": "python3"
  },
  "language_info": {
   "codemirror_mode": {
    "name": "ipython",
    "version": 3
   },
   "file_extension": ".py",
   "mimetype": "text/x-python",
   "name": "python",
   "nbconvert_exporter": "python",
   "pygments_lexer": "ipython3",
   "version": "3.9.6"
  }
 },
 "nbformat": 4,
 "nbformat_minor": 5
}
